{
 "cells": [
  {
   "cell_type": "code",
   "execution_count": 68,
   "id": "86e57e48-4adb-4a99-ab3a-3257da3693d5",
   "metadata": {
    "tags": []
   },
   "outputs": [],
   "source": [
    "# Import Libraries\n",
    "import pandas as pd\n",
    "import matplotlib.pyplot as mptl\n",
    "import seaborn as sns\n",
    "\n",
    "import dtale"
   ]
  },
  {
   "cell_type": "code",
   "execution_count": 41,
   "id": "cf2f31d8-1019-4ec3-87bd-f4c64fd1d988",
   "metadata": {
    "tags": []
   },
   "outputs": [
    {
     "name": "stdout",
     "output_type": "stream",
     "text": [
      "23078\n",
      "<class 'pandas.core.frame.DataFrame'>\n",
      "RangeIndex: 23078 entries, 0 to 23077\n",
      "Data columns (total 25 columns):\n",
      " #   Column                  Non-Null Count  Dtype         \n",
      "---  ------                  --------------  -----         \n",
      " 0   SNo.                    23078 non-null  int64         \n",
      " 1   DDO Code                23078 non-null  object        \n",
      " 2   Department Name         23078 non-null  object        \n",
      " 3   Office Name             15837 non-null  object        \n",
      " 4   Group                   23078 non-null  object        \n",
      " 5   Kgid No                 23078 non-null  int64         \n",
      " 6   Name Of The Official    23078 non-null  object        \n",
      " 7   Parent Name             22950 non-null  object        \n",
      " 8   Designation             23078 non-null  object        \n",
      " 9   Gender                  23078 non-null  object        \n",
      " 10  Spouse Working          23078 non-null  object        \n",
      " 11  Scale Of Pay            23078 non-null  object        \n",
      " 12  Join Date               23078 non-null  datetime64[ns]\n",
      " 13  Length Of Service       23078 non-null  int64         \n",
      " 14  Date Of Birth           23078 non-null  datetime64[ns]\n",
      " 15  Age                     23078 non-null  int64         \n",
      " 16  Present Basic           23078 non-null  int64         \n",
      " 17  Physically Handicapped  266 non-null    object        \n",
      " 18  Residence Addresss      23078 non-null  object        \n",
      " 19  Pin Code                23078 non-null  int64         \n",
      " 20  Phone Number            1277 non-null   float64       \n",
      " 21  Mobile Number           11301 non-null  object        \n",
      " 22  PRAN Number             11190 non-null  float64       \n",
      " 23  Home Town               617 non-null    object        \n",
      " 24  Taluk Name              23078 non-null  object        \n",
      "dtypes: datetime64[ns](2), float64(2), int64(6), object(15)\n",
      "memory usage: 4.4+ MB\n"
     ]
    }
   ],
   "source": [
    "# Read the employees data\n",
    "df = pd.read_excel(\"employees_data_12.09.2023.xlsx\")\n",
    "print(len(df))\n",
    "df.info()"
   ]
  },
  {
   "cell_type": "code",
   "execution_count": 43,
   "id": "23f19ca0-1872-4c46-b4af-d7f6a4992be0",
   "metadata": {
    "tags": []
   },
   "outputs": [
    {
     "name": "stdout",
     "output_type": "stream",
     "text": [
      "   SNo.    DDO Code             Department Name  \\\n",
      "0     1  0100CU0003  City Municipal Corporation   \n",
      "1     2  0100CU0003  City Municipal Corporation   \n",
      "2     3  0100CU0003  City Municipal Corporation   \n",
      "3     4  0100CU0003  City Municipal Corporation   \n",
      "4     5  0100CU0003  City Municipal Corporation   \n",
      "\n",
      "                                Office Name Group    Kgid No  \\\n",
      "0  City Municipal Council Madanayakanahalli     A  911008298   \n",
      "1  City Municipal Council Madanayakanahalli     B  911009675   \n",
      "2  City Municipal Council Madanayakanahalli     B  911004295   \n",
      "3  City Municipal Council Madanayakanahalli     B  911007485   \n",
      "4  City Municipal Council Madanayakanahalli     C  911031548   \n",
      "\n",
      "  Name Of The Official          Parent Name                   Designation  \\\n",
      "0           SOWMYA B R  Raghavenrda rao B V  Assistant Executive Engineer   \n",
      "1       ANIL KUMAR G S           Shivanna N       Accounts Superintendent   \n",
      "2  HANUMANTHEGOWDA H C     Late Chikkanna H                  Commissioner   \n",
      "3           KARUNA C P    Parthasarathy C R     Community Affairs Officer   \n",
      "4       BASAVARAJU S R     RANGABASAVEGOWDA                         F.D.A   \n",
      "\n",
      "   Gender  ... Age Present Basic Physically Handicapped  \\\n",
      "0  FEMALE  ...  45         67550                    NaN   \n",
      "1    MALE  ...  35         44200                    NaN   \n",
      "2    MALE  ...  60         59700                    NaN   \n",
      "3  FEMALE  ...  55         53900                    NaN   \n",
      "4    MALE  ...  37         28950                    NaN   \n",
      "\n",
      "                                  Residence Addresss Pin Code  Phone Number  \\\n",
      "0                          Bramhanara beedi-Pavagada   561202           NaN   \n",
      "1  #111,Gottigehalli village,harohalli hobli-Kana...   562112           NaN   \n",
      "2                C/O P Rajanna,Ashok Nagar-Vijaypura   562135           NaN   \n",
      "3  #655. Giripadma, 7th B Cross-16th Main, MEI La...   560073           NaN   \n",
      "4  SINGASANDRA VILLAGE, KOTTAGALU POST-HAROHALLI ...   562117           NaN   \n",
      "\n",
      "   Mobile Number   PRAN Number  Home Town         Taluk Name  \n",
      "0            NaN           NaN        NaN  BANGALORE (URBAN)  \n",
      "1     9663679306  1.101530e+11  Ramanagar  BANGALORE (URBAN)  \n",
      "2     9845412696           NaN        NaN  BANGALORE (URBAN)  \n",
      "3     9449726270           NaN        NaN  BANGALORE (URBAN)  \n",
      "4     9741816796  1.101867e+11        NaN  BANGALORE (URBAN)  \n",
      "\n",
      "[5 rows x 25 columns]\n"
     ]
    }
   ],
   "source": [
    "print(df.head(5))"
   ]
  },
  {
   "cell_type": "code",
   "execution_count": 44,
   "id": "eea39d75-3996-4cd8-8fa4-76b2206507fb",
   "metadata": {
    "tags": []
   },
   "outputs": [
    {
     "data": {
      "text/plain": [
       "Index(['SNo.', 'DDO Code', 'Department Name', 'Office Name', 'Group',\n",
       "       'Kgid No', 'Name Of The Official', 'Parent Name', 'Designation',\n",
       "       'Gender', 'Spouse Working', 'Scale Of Pay', 'Join Date',\n",
       "       'Length Of Service', 'Date Of Birth', 'Age', 'Present Basic',\n",
       "       'Physically Handicapped', 'Residence Addresss', 'Pin Code',\n",
       "       'Phone Number', 'Mobile Number', 'PRAN Number', 'Home Town',\n",
       "       'Taluk Name'],\n",
       "      dtype='object')"
      ]
     },
     "execution_count": 44,
     "metadata": {},
     "output_type": "execute_result"
    }
   ],
   "source": [
    "df.keys()"
   ]
  },
  {
   "cell_type": "code",
   "execution_count": 45,
   "id": "8b5b53aa-dbc4-4418-a72e-4320c19cbe00",
   "metadata": {
    "tags": []
   },
   "outputs": [
    {
     "data": {
      "text/plain": [
       "Index(['DDO Code', 'Group', 'Kgid No', 'Name Of The Official', 'Designation',\n",
       "       'Gender', 'Scale Of Pay', 'Join Date', 'Date Of Birth', 'Present Basic',\n",
       "       'Physically Handicapped', 'PRAN Number'],\n",
       "      dtype='object')"
      ]
     },
     "execution_count": 45,
     "metadata": {},
     "output_type": "execute_result"
    }
   ],
   "source": [
    "df = df.drop(['SNo.','Department Name', 'Office Name', 'Parent Name','Spouse Working','Length Of Service','Age',\n",
    "              'Residence Addresss','Pin Code', 'Phone Number', 'Mobile Number', 'Home Town', 'Taluk Name'],axis=1)\n",
    "df.keys()"
   ]
  },
  {
   "cell_type": "code",
   "execution_count": 46,
   "id": "454e1b84-7903-4268-95f4-686f9e1bfd61",
   "metadata": {
    "tags": []
   },
   "outputs": [],
   "source": [
    "df = df.rename(columns={\"PRAN Number\":\"PRAN\",\"PRAN No.\":\"PRAN\", \"Kgid No\":\"Emp_ID\",\"DDO Code\":\"DDO_Code\",\n",
    "                       \"Name Of The Official\":\"Emp_Name\",\"Scale Of Pay\":\"Pay_Scale\",\"Join Date\":\"DOJ\",\n",
    "                       \"Date Of Birth\":\"DOB\", \"Present Basic\":\"Basic_Pay\",\"Physically Handicapped\":\"Phy_H\"})"
   ]
  },
  {
   "cell_type": "code",
   "execution_count": 47,
   "id": "47bb8d8d-00fb-4e2c-86f3-d75345f9589a",
   "metadata": {
    "tags": []
   },
   "outputs": [
    {
     "name": "stdout",
     "output_type": "stream",
     "text": [
      "<class 'pandas.core.frame.DataFrame'>\n",
      "RangeIndex: 23078 entries, 0 to 23077\n",
      "Data columns (total 12 columns):\n",
      " #   Column       Non-Null Count  Dtype         \n",
      "---  ------       --------------  -----         \n",
      " 0   DDO_Code     23078 non-null  object        \n",
      " 1   Group        23078 non-null  object        \n",
      " 2   Emp_ID       23078 non-null  int64         \n",
      " 3   Emp_Name     23078 non-null  object        \n",
      " 4   Designation  23078 non-null  object        \n",
      " 5   Gender       23078 non-null  object        \n",
      " 6   Pay_Scale    23078 non-null  object        \n",
      " 7   DOJ          23078 non-null  datetime64[ns]\n",
      " 8   DOB          23078 non-null  datetime64[ns]\n",
      " 9   Basic_Pay    23078 non-null  int64         \n",
      " 10  Phy_H        266 non-null    object        \n",
      " 11  PRAN         11190 non-null  float64       \n",
      "dtypes: datetime64[ns](2), float64(1), int64(2), object(7)\n",
      "memory usage: 2.1+ MB\n"
     ]
    }
   ],
   "source": [
    "df.info()"
   ]
  },
  {
   "cell_type": "code",
   "execution_count": 48,
   "id": "c66c9945-959a-4f6d-8b87-31225effbc94",
   "metadata": {
    "tags": []
   },
   "outputs": [
    {
     "data": {
      "text/plain": [
       "Index(['DDO_Code', 'Group', 'Emp_ID', 'Emp_Name', 'Designation', 'Gender',\n",
       "       'Pay_Scale', 'DOJ', 'DOB', 'Basic_Pay', 'Phy_H', 'PRAN', 'ULB_Name',\n",
       "       'Type', 'District', 'Division'],\n",
       "      dtype='object')"
      ]
     },
     "execution_count": 48,
     "metadata": {},
     "output_type": "execute_result"
    }
   ],
   "source": [
    "# Read the ULB_Registration file to a variable to map the ULB name with the DDO Code of employee list\n",
    "reg_data = pd.read_excel(\"NPS_DTO_DDO_Information.xlsx\")\n",
    "\n",
    "# Drop the unnecessary columns in Registration Details file and keep required columns\n",
    "reg_data_new = reg_data[['DDO Code (HRMS)','ULB Name','Type','Dist.','Div.']]\n",
    "\n",
    "# Renaming the DDO Code columns to match with employee List file\n",
    "reg_data_new = reg_data_new.rename(columns={\"DDO Code (HRMS)\":\"DDO_Code\",\"Dist.\":\"District\",\n",
    "                                            \"Div.\":\"Division\",\"ULB Name\":\"ULB_Name\"})\n",
    "\n",
    "# Mapping ULB Name to DDO Code of Employee List like 'VLOOKUP'\n",
    "df1 = pd.merge(df,reg_data_new,on='DDO_Code', how='left')\n",
    "\n",
    "df1.keys()"
   ]
  },
  {
   "cell_type": "code",
   "execution_count": 49,
   "id": "d5efc224-19ae-432e-a363-a5a88af9a89d",
   "metadata": {
    "tags": []
   },
   "outputs": [
    {
     "name": "stdout",
     "output_type": "stream",
     "text": [
      "<class 'pandas.core.frame.DataFrame'>\n",
      "Int64Index: 23078 entries, 0 to 23077\n",
      "Data columns (total 16 columns):\n",
      " #   Column       Non-Null Count  Dtype         \n",
      "---  ------       --------------  -----         \n",
      " 0   Division     23078 non-null  object        \n",
      " 1   District     23078 non-null  object        \n",
      " 2   DDO_Code     23078 non-null  object        \n",
      " 3   ULB_Name     23078 non-null  object        \n",
      " 4   Type         23078 non-null  object        \n",
      " 5   Emp_ID       23078 non-null  int64         \n",
      " 6   Emp_Name     23078 non-null  object        \n",
      " 7   Designation  23078 non-null  object        \n",
      " 8   Gender       23078 non-null  object        \n",
      " 9   Group        23078 non-null  object        \n",
      " 10  Phy_H        266 non-null    object        \n",
      " 11  DOB          23078 non-null  datetime64[ns]\n",
      " 12  DOJ          23078 non-null  datetime64[ns]\n",
      " 13  Pay_Scale    23078 non-null  object        \n",
      " 14  Basic_Pay    23078 non-null  int64         \n",
      " 15  PRAN         11190 non-null  float64       \n",
      "dtypes: datetime64[ns](2), float64(1), int64(2), object(11)\n",
      "memory usage: 3.0+ MB\n"
     ]
    }
   ],
   "source": [
    "# Re-arranging the columns as per requirements\n",
    "df1 = df1[['Division','District','DDO_Code','ULB_Name','Type','Emp_ID','Emp_Name','Designation',\n",
    "           'Gender','Group','Phy_H','DOB','DOJ','Pay_Scale','Basic_Pay','PRAN']]\n",
    "df1.info()"
   ]
  },
  {
   "cell_type": "markdown",
   "id": "a5ac7cde-cec8-4d03-83bb-76d5c2355c45",
   "metadata": {},
   "source": [
    "## EDA of Employee data"
   ]
  },
  {
   "cell_type": "code",
   "execution_count": 50,
   "id": "6a840395-200a-49e0-a81f-37ff5242987d",
   "metadata": {
    "tags": []
   },
   "outputs": [],
   "source": [
    "df1['PRAN'] = df1['PRAN'].fillna(0)\n",
    "df1['PRAN'] = df1['PRAN'].astype('int64')"
   ]
  },
  {
   "cell_type": "code",
   "execution_count": 51,
   "id": "dae1ce85-a6a4-4d16-8a51-9031e2411734",
   "metadata": {
    "tags": []
   },
   "outputs": [
    {
     "name": "stdout",
     "output_type": "stream",
     "text": [
      "2005-10-19 00:00:00\n"
     ]
    },
    {
     "data": {
      "text/plain": [
       "Timestamp('2030-10-19 00:00:00')"
      ]
     },
     "execution_count": 51,
     "metadata": {},
     "output_type": "execute_result"
    }
   ],
   "source": [
    "print(df1['DOJ'][0])\n",
    "df1['DOJ'][0] + pd.offsets.DateOffset(years=25)"
   ]
  },
  {
   "cell_type": "code",
   "execution_count": 52,
   "id": "2ba93af1-f0b7-4574-ab98-f8d86f9b9b92",
   "metadata": {
    "tags": []
   },
   "outputs": [
    {
     "data": {
      "text/html": [
       "<div>\n",
       "<style scoped>\n",
       "    .dataframe tbody tr th:only-of-type {\n",
       "        vertical-align: middle;\n",
       "    }\n",
       "\n",
       "    .dataframe tbody tr th {\n",
       "        vertical-align: top;\n",
       "    }\n",
       "\n",
       "    .dataframe thead th {\n",
       "        text-align: right;\n",
       "    }\n",
       "</style>\n",
       "<table border=\"1\" class=\"dataframe\">\n",
       "  <thead>\n",
       "    <tr style=\"text-align: right;\">\n",
       "      <th></th>\n",
       "      <th>Division</th>\n",
       "      <th>District</th>\n",
       "      <th>DDO_Code</th>\n",
       "      <th>ULB_Name</th>\n",
       "      <th>Type</th>\n",
       "      <th>Emp_ID</th>\n",
       "      <th>Emp_Name</th>\n",
       "      <th>Designation</th>\n",
       "      <th>Gender</th>\n",
       "      <th>Group</th>\n",
       "      <th>Phy_H</th>\n",
       "      <th>DOB</th>\n",
       "      <th>DOJ</th>\n",
       "      <th>Pay_Scale</th>\n",
       "      <th>Basic_Pay</th>\n",
       "      <th>PRAN</th>\n",
       "      <th>Service_25y</th>\n",
       "    </tr>\n",
       "  </thead>\n",
       "  <tbody>\n",
       "    <tr>\n",
       "      <th>0</th>\n",
       "      <td>Bengaluru</td>\n",
       "      <td>Bengaluru Urban</td>\n",
       "      <td>0100CU0003</td>\n",
       "      <td>Madanayakanahalli</td>\n",
       "      <td>CMC</td>\n",
       "      <td>911008298</td>\n",
       "      <td>SOWMYA B R</td>\n",
       "      <td>Assistant Executive Engineer</td>\n",
       "      <td>FEMALE</td>\n",
       "      <td>A</td>\n",
       "      <td>NaN</td>\n",
       "      <td>1978-10-22</td>\n",
       "      <td>2005-10-19</td>\n",
       "      <td>52650-97100</td>\n",
       "      <td>67550</td>\n",
       "      <td>0</td>\n",
       "      <td>2030-10-19</td>\n",
       "    </tr>\n",
       "    <tr>\n",
       "      <th>1</th>\n",
       "      <td>Bengaluru</td>\n",
       "      <td>Bengaluru Urban</td>\n",
       "      <td>0100CU0003</td>\n",
       "      <td>Madanayakanahalli</td>\n",
       "      <td>CMC</td>\n",
       "      <td>911009675</td>\n",
       "      <td>ANIL KUMAR G S</td>\n",
       "      <td>Accounts Superintendent</td>\n",
       "      <td>MALE</td>\n",
       "      <td>B</td>\n",
       "      <td>NaN</td>\n",
       "      <td>1988-06-15</td>\n",
       "      <td>2011-03-28</td>\n",
       "      <td>40900-78200</td>\n",
       "      <td>44200</td>\n",
       "      <td>110153025634</td>\n",
       "      <td>2030-10-19</td>\n",
       "    </tr>\n",
       "    <tr>\n",
       "      <th>2</th>\n",
       "      <td>Bengaluru</td>\n",
       "      <td>Bengaluru Urban</td>\n",
       "      <td>0100CU0003</td>\n",
       "      <td>Madanayakanahalli</td>\n",
       "      <td>CMC</td>\n",
       "      <td>911004295</td>\n",
       "      <td>HANUMANTHEGOWDA H C</td>\n",
       "      <td>Commissioner</td>\n",
       "      <td>MALE</td>\n",
       "      <td>B</td>\n",
       "      <td>NaN</td>\n",
       "      <td>1963-06-01</td>\n",
       "      <td>2005-10-28</td>\n",
       "      <td>40900-78200</td>\n",
       "      <td>59700</td>\n",
       "      <td>0</td>\n",
       "      <td>2030-10-19</td>\n",
       "    </tr>\n",
       "    <tr>\n",
       "      <th>3</th>\n",
       "      <td>Bengaluru</td>\n",
       "      <td>Bengaluru Urban</td>\n",
       "      <td>0100CU0003</td>\n",
       "      <td>Madanayakanahalli</td>\n",
       "      <td>CMC</td>\n",
       "      <td>911007485</td>\n",
       "      <td>KARUNA C P</td>\n",
       "      <td>Community Affairs Officer</td>\n",
       "      <td>FEMALE</td>\n",
       "      <td>B</td>\n",
       "      <td>NaN</td>\n",
       "      <td>1968-06-01</td>\n",
       "      <td>2005-10-28</td>\n",
       "      <td>40900-78200</td>\n",
       "      <td>53900</td>\n",
       "      <td>0</td>\n",
       "      <td>2030-10-19</td>\n",
       "    </tr>\n",
       "    <tr>\n",
       "      <th>4</th>\n",
       "      <td>Bengaluru</td>\n",
       "      <td>Bengaluru Urban</td>\n",
       "      <td>0100CU0003</td>\n",
       "      <td>Madanayakanahalli</td>\n",
       "      <td>CMC</td>\n",
       "      <td>911031548</td>\n",
       "      <td>BASAVARAJU S R</td>\n",
       "      <td>F.D.A</td>\n",
       "      <td>MALE</td>\n",
       "      <td>C</td>\n",
       "      <td>NaN</td>\n",
       "      <td>1986-07-23</td>\n",
       "      <td>2021-07-29</td>\n",
       "      <td>27650-52650</td>\n",
       "      <td>28950</td>\n",
       "      <td>110186732950</td>\n",
       "      <td>2030-10-19</td>\n",
       "    </tr>\n",
       "  </tbody>\n",
       "</table>\n",
       "</div>"
      ],
      "text/plain": [
       "    Division         District    DDO_Code           ULB_Name Type     Emp_ID  \\\n",
       "0  Bengaluru  Bengaluru Urban  0100CU0003  Madanayakanahalli  CMC  911008298   \n",
       "1  Bengaluru  Bengaluru Urban  0100CU0003  Madanayakanahalli  CMC  911009675   \n",
       "2  Bengaluru  Bengaluru Urban  0100CU0003  Madanayakanahalli  CMC  911004295   \n",
       "3  Bengaluru  Bengaluru Urban  0100CU0003  Madanayakanahalli  CMC  911007485   \n",
       "4  Bengaluru  Bengaluru Urban  0100CU0003  Madanayakanahalli  CMC  911031548   \n",
       "\n",
       "              Emp_Name                   Designation  Gender Group Phy_H  \\\n",
       "0           SOWMYA B R  Assistant Executive Engineer  FEMALE     A   NaN   \n",
       "1       ANIL KUMAR G S       Accounts Superintendent    MALE     B   NaN   \n",
       "2  HANUMANTHEGOWDA H C                  Commissioner    MALE     B   NaN   \n",
       "3           KARUNA C P     Community Affairs Officer  FEMALE     B   NaN   \n",
       "4       BASAVARAJU S R                         F.D.A    MALE     C   NaN   \n",
       "\n",
       "         DOB        DOJ    Pay_Scale  Basic_Pay          PRAN Service_25y  \n",
       "0 1978-10-22 2005-10-19  52650-97100      67550             0  2030-10-19  \n",
       "1 1988-06-15 2011-03-28  40900-78200      44200  110153025634  2030-10-19  \n",
       "2 1963-06-01 2005-10-28  40900-78200      59700             0  2030-10-19  \n",
       "3 1968-06-01 2005-10-28  40900-78200      53900             0  2030-10-19  \n",
       "4 1986-07-23 2021-07-29  27650-52650      28950  110186732950  2030-10-19  "
      ]
     },
     "execution_count": 52,
     "metadata": {},
     "output_type": "execute_result"
    }
   ],
   "source": [
    "df1['Service_25y'] = df1['DOJ'][0] + pd.offsets.DateOffset(years=25)\n",
    "df1.head(5)"
   ]
  },
  {
   "cell_type": "code",
   "execution_count": 53,
   "id": "cb10c9fd-ba99-4ee3-a753-26ec9422ba32",
   "metadata": {
    "tags": []
   },
   "outputs": [
    {
     "name": "stdout",
     "output_type": "stream",
     "text": [
      "1978-10-22 00:00:00\n",
      "2005-10-19 00:00:00\n",
      "2030-10-19 00:00:00\n"
     ]
    }
   ],
   "source": [
    "# len(df2[df2['Service_25y'] < '2023-09-30'])\n",
    "print(df1['DOB'][0])\n",
    "print(df1['DOJ'][0])\n",
    "print(df1['Service_25y'][0])"
   ]
  },
  {
   "cell_type": "code",
   "execution_count": 54,
   "id": "fc3b94ce-f301-4eb7-bac8-32b0243e2ff9",
   "metadata": {
    "tags": []
   },
   "outputs": [
    {
     "data": {
      "text/plain": [
       "Index(['Division', 'District', 'DDO_Code', 'ULB_Name', 'Type', 'Emp_ID',\n",
       "       'Emp_Name', 'Designation', 'Gender', 'Group', 'Phy_H', 'DOB', 'DOJ',\n",
       "       'Pay_Scale', 'Basic_Pay', 'PRAN', 'Service_25y'],\n",
       "      dtype='object')"
      ]
     },
     "execution_count": 54,
     "metadata": {},
     "output_type": "execute_result"
    }
   ],
   "source": [
    "df1.keys()"
   ]
  },
  {
   "cell_type": "code",
   "execution_count": 55,
   "id": "63145b57-0f21-4286-b65f-26e5a03ddb58",
   "metadata": {
    "tags": []
   },
   "outputs": [
    {
     "name": "stdout",
     "output_type": "stream",
     "text": [
      "23078\n",
      "10871\n",
      "12207\n"
     ]
    }
   ],
   "source": [
    "# Droping the OPS employees and retaining the NPS Employees\n",
    "print(len(df1))\n",
    "print(len(df1[df1['DOJ'] < '2006-04-01']))\n",
    "print(len(df1[df1['DOJ'] > '2006-03-31']))"
   ]
  },
  {
   "cell_type": "code",
   "execution_count": 56,
   "id": "86edee16-154b-49c0-bc7d-a7ad58f01af7",
   "metadata": {
    "tags": []
   },
   "outputs": [
    {
     "data": {
      "text/plain": [
       "Belagavi      6346\n",
       "Bengaluru     5848\n",
       "Mysuru        5758\n",
       "Kalaburagi    5126\n",
       "Name: Division, dtype: int64"
      ]
     },
     "execution_count": 56,
     "metadata": {},
     "output_type": "execute_result"
    }
   ],
   "source": [
    "df1['Division'].value_counts()"
   ]
  },
  {
   "cell_type": "code",
   "execution_count": 57,
   "id": "44d7e6a3-9467-465f-bfc4-8f8c3e0312f3",
   "metadata": {
    "tags": []
   },
   "outputs": [
    {
     "data": {
      "text/plain": [
       "Mysuru              2656\n",
       "Belagavi            1675\n",
       "Dharwad             1476\n",
       "Tumakuru            1159\n",
       "Davanagere          1124\n",
       "Shivamogga          1048\n",
       "Kalaburagi          1005\n",
       "Raichur              938\n",
       "Ballari              913\n",
       "Bagalakote           844\n",
       "Vijayapura           801\n",
       "Dakshina Kannada     776\n",
       "Hassan               708\n",
       "Bidar                699\n",
       "Vijayanagara         639\n",
       "Uttara Kannada       565\n",
       "Kolar                542\n",
       "Yadagiri             533\n",
       "Mandya               514\n",
       "Gadag                497\n",
       "Haveri               488\n",
       "Chitradurga          476\n",
       "Chikkamagaluru       438\n",
       "Bengaluru Rural      426\n",
       "Ramanagara           417\n",
       "Chikkaballapura      403\n",
       "Koppal               399\n",
       "Udupi                261\n",
       "Bengaluru Urban      253\n",
       "Chamarajanagara      246\n",
       "Kodagu               159\n",
       "Name: District, dtype: int64"
      ]
     },
     "execution_count": 57,
     "metadata": {},
     "output_type": "execute_result"
    }
   ],
   "source": [
    "df1['District'].value_counts()"
   ]
  },
  {
   "cell_type": "markdown",
   "id": "3d5502a2-5929-4d7a-92e4-2f1a4f6d9813",
   "metadata": {
    "tags": []
   },
   "source": [
    "#### Pay_scale difference"
   ]
  },
  {
   "cell_type": "code",
   "execution_count": 58,
   "id": "920addb2-cd6a-4d16-a9ec-23238da60b29",
   "metadata": {
    "tags": []
   },
   "outputs": [],
   "source": [
    "pay_scale = ['17000-28950','18600-32600','19950-37900','21400-42000','23500-47650','25800-51400','27650-52650',\n",
    "             '30350-58250','33450-62600','36000-67550','37900-70850','40900-78200','43100-83900','45300-88300',\n",
    "             '48900-92700','52650-97100','56800-99600','61150-102100','67550-104600','70850-107100','74400-109600',\n",
    "             '82000-117700','90500-123300','97100-141300','104600-150600']\n",
    "\n",
    "df1['payscale_check'] = df1['Pay_Scale'].isin(pay_scale)\n",
    "\n",
    "# data[data['subjects'].isin(list2)]"
   ]
  },
  {
   "cell_type": "code",
   "execution_count": 59,
   "id": "a0ec0c2a-1914-4ab3-833d-dac3ec26e137",
   "metadata": {
    "tags": []
   },
   "outputs": [
    {
     "name": "stdout",
     "output_type": "stream",
     "text": [
      "1581\n"
     ]
    },
    {
     "data": {
      "text/html": [
       "<div>\n",
       "<style scoped>\n",
       "    .dataframe tbody tr th:only-of-type {\n",
       "        vertical-align: middle;\n",
       "    }\n",
       "\n",
       "    .dataframe tbody tr th {\n",
       "        vertical-align: top;\n",
       "    }\n",
       "\n",
       "    .dataframe thead th {\n",
       "        text-align: right;\n",
       "    }\n",
       "</style>\n",
       "<table border=\"1\" class=\"dataframe\">\n",
       "  <thead>\n",
       "    <tr style=\"text-align: right;\">\n",
       "      <th></th>\n",
       "      <th>Division</th>\n",
       "      <th>District</th>\n",
       "      <th>DDO_Code</th>\n",
       "      <th>ULB_Name</th>\n",
       "      <th>Type</th>\n",
       "      <th>Emp_ID</th>\n",
       "      <th>Emp_Name</th>\n",
       "      <th>Designation</th>\n",
       "      <th>Gender</th>\n",
       "      <th>Group</th>\n",
       "      <th>Phy_H</th>\n",
       "      <th>DOB</th>\n",
       "      <th>DOJ</th>\n",
       "      <th>Pay_Scale</th>\n",
       "      <th>Basic_Pay</th>\n",
       "      <th>PRAN</th>\n",
       "      <th>Service_25y</th>\n",
       "      <th>payscale_check</th>\n",
       "    </tr>\n",
       "  </thead>\n",
       "  <tbody>\n",
       "    <tr>\n",
       "      <th>189</th>\n",
       "      <td>Bengaluru</td>\n",
       "      <td>Bengaluru Urban</td>\n",
       "      <td>0101TU0003</td>\n",
       "      <td>Bommasandra</td>\n",
       "      <td>TMC</td>\n",
       "      <td>911025105</td>\n",
       "      <td>SURENDRA C</td>\n",
       "      <td>Water Supply Assistant</td>\n",
       "      <td>MALE</td>\n",
       "      <td>D</td>\n",
       "      <td>NaN</td>\n",
       "      <td>1979-06-10</td>\n",
       "      <td>2015-06-24</td>\n",
       "      <td>9600-14550</td>\n",
       "      <td>10200</td>\n",
       "      <td>110121636348</td>\n",
       "      <td>2030-10-19</td>\n",
       "      <td>False</td>\n",
       "    </tr>\n",
       "    <tr>\n",
       "      <th>261</th>\n",
       "      <td>Bengaluru</td>\n",
       "      <td>Bengaluru Rural</td>\n",
       "      <td>0302TU0001</td>\n",
       "      <td>Devanahalli</td>\n",
       "      <td>TMC</td>\n",
       "      <td>911007779</td>\n",
       "      <td>DD THIPPAIAH</td>\n",
       "      <td>F.D.A</td>\n",
       "      <td>MALE</td>\n",
       "      <td>C</td>\n",
       "      <td>NaN</td>\n",
       "      <td>1953-12-02</td>\n",
       "      <td>1977-01-13</td>\n",
       "      <td>14550-26700</td>\n",
       "      <td>26000</td>\n",
       "      <td>0</td>\n",
       "      <td>2030-10-19</td>\n",
       "      <td>False</td>\n",
       "    </tr>\n",
       "    <tr>\n",
       "      <th>269</th>\n",
       "      <td>Bengaluru</td>\n",
       "      <td>Bengaluru Rural</td>\n",
       "      <td>0302TU0001</td>\n",
       "      <td>Devanahalli</td>\n",
       "      <td>TMC</td>\n",
       "      <td>911007740</td>\n",
       "      <td>RAMALINGEGOWDA</td>\n",
       "      <td>Revenue Officer</td>\n",
       "      <td>MALE</td>\n",
       "      <td>C</td>\n",
       "      <td>NaN</td>\n",
       "      <td>1952-05-04</td>\n",
       "      <td>1976-04-15</td>\n",
       "      <td>10000-18150</td>\n",
       "      <td>16400</td>\n",
       "      <td>0</td>\n",
       "      <td>2030-10-19</td>\n",
       "      <td>False</td>\n",
       "    </tr>\n",
       "    <tr>\n",
       "      <th>273</th>\n",
       "      <td>Bengaluru</td>\n",
       "      <td>Bengaluru Rural</td>\n",
       "      <td>0302TU0001</td>\n",
       "      <td>Devanahalli</td>\n",
       "      <td>TMC</td>\n",
       "      <td>911004750</td>\n",
       "      <td>VENKATARAJU G</td>\n",
       "      <td>Bill Collector</td>\n",
       "      <td>MALE</td>\n",
       "      <td>C</td>\n",
       "      <td>NaN</td>\n",
       "      <td>1952-04-15</td>\n",
       "      <td>1972-07-01</td>\n",
       "      <td>5800-10500</td>\n",
       "      <td>10500</td>\n",
       "      <td>0</td>\n",
       "      <td>2030-10-19</td>\n",
       "      <td>False</td>\n",
       "    </tr>\n",
       "    <tr>\n",
       "      <th>319</th>\n",
       "      <td>Bengaluru</td>\n",
       "      <td>Bengaluru Rural</td>\n",
       "      <td>0302TU0002</td>\n",
       "      <td>Vijaypura</td>\n",
       "      <td>TMC</td>\n",
       "      <td>911004397</td>\n",
       "      <td>M BYRAPPA</td>\n",
       "      <td>S.D.C</td>\n",
       "      <td>MALE</td>\n",
       "      <td>C</td>\n",
       "      <td>NaN</td>\n",
       "      <td>1955-05-06</td>\n",
       "      <td>1986-08-01</td>\n",
       "      <td>11600-21000</td>\n",
       "      <td>21000</td>\n",
       "      <td>0</td>\n",
       "      <td>2030-10-19</td>\n",
       "      <td>False</td>\n",
       "    </tr>\n",
       "  </tbody>\n",
       "</table>\n",
       "</div>"
      ],
      "text/plain": [
       "      Division         District    DDO_Code     ULB_Name Type     Emp_ID  \\\n",
       "189  Bengaluru  Bengaluru Urban  0101TU0003  Bommasandra  TMC  911025105   \n",
       "261  Bengaluru  Bengaluru Rural  0302TU0001  Devanahalli  TMC  911007779   \n",
       "269  Bengaluru  Bengaluru Rural  0302TU0001  Devanahalli  TMC  911007740   \n",
       "273  Bengaluru  Bengaluru Rural  0302TU0001  Devanahalli  TMC  911004750   \n",
       "319  Bengaluru  Bengaluru Rural  0302TU0002    Vijaypura  TMC  911004397   \n",
       "\n",
       "           Emp_Name             Designation Gender Group Phy_H        DOB  \\\n",
       "189      SURENDRA C  Water Supply Assistant   MALE     D   NaN 1979-06-10   \n",
       "261    DD THIPPAIAH                   F.D.A   MALE     C   NaN 1953-12-02   \n",
       "269  RAMALINGEGOWDA         Revenue Officer   MALE     C   NaN 1952-05-04   \n",
       "273   VENKATARAJU G          Bill Collector   MALE     C   NaN 1952-04-15   \n",
       "319       M BYRAPPA                   S.D.C   MALE     C   NaN 1955-05-06   \n",
       "\n",
       "           DOJ    Pay_Scale  Basic_Pay          PRAN Service_25y  \\\n",
       "189 2015-06-24   9600-14550      10200  110121636348  2030-10-19   \n",
       "261 1977-01-13  14550-26700      26000             0  2030-10-19   \n",
       "269 1976-04-15  10000-18150      16400             0  2030-10-19   \n",
       "273 1972-07-01   5800-10500      10500             0  2030-10-19   \n",
       "319 1986-08-01  11600-21000      21000             0  2030-10-19   \n",
       "\n",
       "     payscale_check  \n",
       "189           False  \n",
       "261           False  \n",
       "269           False  \n",
       "273           False  \n",
       "319           False  "
      ]
     },
     "execution_count": 59,
     "metadata": {},
     "output_type": "execute_result"
    }
   ],
   "source": [
    "PayScale_nm = df1[df1['payscale_check'] == False]\n",
    "\n",
    "print(len(PayScale_nm))\n",
    "PayScale_nm.head()"
   ]
  },
  {
   "cell_type": "code",
   "execution_count": 60,
   "id": "b5ac213f-497f-475e-892a-c89175e45b46",
   "metadata": {
    "tags": []
   },
   "outputs": [
    {
     "name": "stdout",
     "output_type": "stream",
     "text": [
      "1970-06-22 00:00:00\n",
      "2020-10-28 00:00:00\n"
     ]
    }
   ],
   "source": [
    "print(PayScale_nm['DOJ'].min())\n",
    "print(PayScale_nm['DOJ'].max())"
   ]
  },
  {
   "cell_type": "code",
   "execution_count": 61,
   "id": "16e4f58f-2b35-4d9c-8a1f-1f423d7eb469",
   "metadata": {
    "tags": []
   },
   "outputs": [
    {
     "data": {
      "text/plain": [
       "District    ULB_Name    Designation                   Pay_Scale  \n",
       "Bagalakote  Badami      Helper                        10400-16400    1\n",
       "                        S.D.C                         14550-26700    1\n",
       "            Bagalakote  Assistant Executive Engineer  24000-45300    1\n",
       "                        Attender                      10400-16400    2\n",
       "                        Dafedar                       10400-16400    2\n",
       "Name: Emp_ID, dtype: int64"
      ]
     },
     "execution_count": 61,
     "metadata": {},
     "output_type": "execute_result"
    }
   ],
   "source": [
    "old_ps = PayScale_nm.groupby(['District','ULB_Name','Designation','Pay_Scale'])['Emp_ID'].count()\n",
    "old_ps.head()"
   ]
  },
  {
   "cell_type": "code",
   "execution_count": 62,
   "id": "e04fa09a-e4d6-490e-b8ff-fb05e9a3465d",
   "metadata": {
    "tags": []
   },
   "outputs": [
    {
     "data": {
      "text/plain": [
       "True     21497\n",
       "False     1581\n",
       "Name: payscale_check, dtype: int64"
      ]
     },
     "execution_count": 62,
     "metadata": {},
     "output_type": "execute_result"
    }
   ],
   "source": [
    "df1['payscale_check'].value_counts()"
   ]
  },
  {
   "cell_type": "markdown",
   "id": "fb48902a-664b-445b-9a32-9032bc461ece",
   "metadata": {},
   "source": [
    "### Grouping data"
   ]
  },
  {
   "cell_type": "code",
   "execution_count": 63,
   "id": "abb3ee9f-530f-4165-ace0-4862eaae4cd8",
   "metadata": {
    "tags": []
   },
   "outputs": [
    {
     "data": {
      "text/plain": [
       "Type\n",
       "CC     7685\n",
       "CMC    6897\n",
       "NAC       5\n",
       "TMC    6180\n",
       "TP     2311\n",
       "Name: Emp_ID, dtype: int64"
      ]
     },
     "execution_count": 63,
     "metadata": {},
     "output_type": "execute_result"
    }
   ],
   "source": [
    "# len(df1.groupby(by=['Type'])['Emp_ID'].sum())\n",
    "list = df1.groupby('Type')['Emp_ID'].count()\n",
    "list"
   ]
  },
  {
   "cell_type": "code",
   "execution_count": 64,
   "id": "dec70530-2880-4286-9129-3e7d8daa93f7",
   "metadata": {
    "tags": []
   },
   "outputs": [
    {
     "data": {
      "text/plain": [
       "Designation         Pay_Scale   \n",
       "A.N.M. Mid Wife     16000-29600     1\n",
       "                    23500-47650     1\n",
       "                    25800-51400     1\n",
       "                    30350-58250     1\n",
       "                    33450-62600     3\n",
       "                                   ..\n",
       "Zonal Commissioner  40900-78200     4\n",
       "                    43100-83900     3\n",
       "                    52650-97100     4\n",
       "                    56800-99600     2\n",
       "                    74400-109600    1\n",
       "Name: Emp_ID, Length: 852, dtype: int64"
      ]
     },
     "execution_count": 64,
     "metadata": {},
     "output_type": "execute_result"
    }
   ],
   "source": [
    "cadre = df1.groupby(['Designation','Pay_Scale'])['Emp_ID'].count()\n",
    "cadre"
   ]
  },
  {
   "cell_type": "code",
   "execution_count": 65,
   "id": "8bee7e05-11d7-459e-8122-86901f34fe66",
   "metadata": {
    "tags": []
   },
   "outputs": [
    {
     "data": {
      "text/html": [
       "<div>\n",
       "<style scoped>\n",
       "    .dataframe tbody tr th:only-of-type {\n",
       "        vertical-align: middle;\n",
       "    }\n",
       "\n",
       "    .dataframe tbody tr th {\n",
       "        vertical-align: top;\n",
       "    }\n",
       "\n",
       "    .dataframe thead th {\n",
       "        text-align: right;\n",
       "    }\n",
       "</style>\n",
       "<table border=\"1\" class=\"dataframe\">\n",
       "  <thead>\n",
       "    <tr style=\"text-align: right;\">\n",
       "      <th></th>\n",
       "      <th>Designation</th>\n",
       "    </tr>\n",
       "  </thead>\n",
       "  <tbody>\n",
       "    <tr>\n",
       "      <th>Powra Karamika</th>\n",
       "      <td>8463</td>\n",
       "    </tr>\n",
       "    <tr>\n",
       "      <th>P.K./U.K.G/P.K</th>\n",
       "      <td>1797</td>\n",
       "    </tr>\n",
       "    <tr>\n",
       "      <th>S.D.C</th>\n",
       "      <td>1546</td>\n",
       "    </tr>\n",
       "    <tr>\n",
       "      <th>Attender</th>\n",
       "      <td>861</td>\n",
       "    </tr>\n",
       "    <tr>\n",
       "      <th>Pourakarmika</th>\n",
       "      <td>742</td>\n",
       "    </tr>\n",
       "    <tr>\n",
       "      <th>...</th>\n",
       "      <td>...</td>\n",
       "    </tr>\n",
       "    <tr>\n",
       "      <th>Vehicle Cleaner</th>\n",
       "      <td>1</td>\n",
       "    </tr>\n",
       "    <tr>\n",
       "      <th>Electrical Superintendent</th>\n",
       "      <td>1</td>\n",
       "    </tr>\n",
       "    <tr>\n",
       "      <th>Data Entry Operator Grade-II</th>\n",
       "      <td>1</td>\n",
       "    </tr>\n",
       "    <tr>\n",
       "      <th>Joint Commissioner</th>\n",
       "      <td>1</td>\n",
       "    </tr>\n",
       "    <tr>\n",
       "      <th>JUNIOR PROGRAMMER</th>\n",
       "      <td>1</td>\n",
       "    </tr>\n",
       "  </tbody>\n",
       "</table>\n",
       "<p>213 rows × 1 columns</p>\n",
       "</div>"
      ],
      "text/plain": [
       "                              Designation\n",
       "Powra Karamika                       8463\n",
       "P.K./U.K.G/P.K                       1797\n",
       "S.D.C                                1546\n",
       "Attender                              861\n",
       "Pourakarmika                          742\n",
       "...                                   ...\n",
       "Vehicle Cleaner                         1\n",
       "Electrical Superintendent               1\n",
       "Data Entry Operator Grade-II            1\n",
       "Joint Commissioner                      1\n",
       "JUNIOR PROGRAMMER                       1\n",
       "\n",
       "[213 rows x 1 columns]"
      ]
     },
     "execution_count": 65,
     "metadata": {},
     "output_type": "execute_result"
    }
   ],
   "source": [
    "desgn = pd.DataFrame(df1['Designation'].value_counts())\n",
    "desgn"
   ]
  },
  {
   "cell_type": "markdown",
   "id": "46ade331-d50c-43e0-838a-07c155345127",
   "metadata": {},
   "source": [
    "### Writing data to excel files"
   ]
  },
  {
   "cell_type": "code",
   "execution_count": 66,
   "id": "a843344a-0c72-476b-99f9-f0f0b481d684",
   "metadata": {
    "tags": []
   },
   "outputs": [],
   "source": [
    "# Define the function to write the datasets to excel file\n",
    "def write_excl(data, data1):\n",
    "    # print(len(data))\n",
    "    with pd.ExcelWriter('view.xlsx', engine='xlsxwriter', datetime_format=\"DD-MM-YYYY\") as writer:\n",
    "        data.to_excel(writer,sheet_name='review')\n",
    "        data1.to_excel(writer,sheet_name='review1')\n",
    "        print(\"Write Done!\")"
   ]
  },
  {
   "cell_type": "code",
   "execution_count": 67,
   "id": "9bbc71b0-6301-46a8-827c-724589eb26bf",
   "metadata": {
    "tags": []
   },
   "outputs": [
    {
     "name": "stdout",
     "output_type": "stream",
     "text": [
      "Write Done!\n"
     ]
    }
   ],
   "source": [
    "# write_excl(desgn)\n",
    "write_excl(cadre,desgn)"
   ]
  }
 ],
 "metadata": {
  "kernelspec": {
   "display_name": "Python 3 (ipykernel)",
   "language": "python",
   "name": "python3"
  },
  "language_info": {
   "codemirror_mode": {
    "name": "ipython",
    "version": 3
   },
   "file_extension": ".py",
   "mimetype": "text/x-python",
   "name": "python",
   "nbconvert_exporter": "python",
   "pygments_lexer": "ipython3",
   "version": "3.11.4"
  }
 },
 "nbformat": 4,
 "nbformat_minor": 5
}
